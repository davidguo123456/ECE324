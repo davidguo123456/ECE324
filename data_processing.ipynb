{
 "cells": [
  {
   "cell_type": "markdown",
   "metadata": {},
   "source": [
    "The below code will build your database. This code assumes you have installed 'magenta' via pip INSTEAD of anaconda.\n",
    "\n",
    "Note to TA: any reference to 'ECE324' in a file path can be safely replaced with 'path/to/'. A recommended file organization structure has been provided but is not strictly nessecary. \n",
    "\n",
    "This file will need to be ran for both datasets, if recreating the same process as utilized in the companion write-up. An example for 'lmd_wan' has been given for reference. Further files and processing will assume you have both unless explicitly stated."
   ]
  },
  {
   "cell_type": "code",
   "execution_count": 1,
   "metadata": {},
   "outputs": [
    {
     "name": "stdout",
     "output_type": "stream",
     "text": [
      "python3: can't open file '.local/lib/python3.8/site-packages/magenta/scripts/convert_dir_to_note_sequences.py': [Errno 2] No such file or directory\n",
      "python3: can't open file '.local/lib/python3.8/site-packages/magenta/scripts/convert_dir_to_note_sequences.py': [Errno 2] No such file or directory\n",
      "python3: can't open file '.local/lib/python3.8/site-packages/magenta/scripts/convert_dir_to_note_sequences.py': [Errno 2] No such file or directory\n"
     ]
    }
   ],
   "source": [
    "!python3 .local/lib/python3.8/site-packages/magenta/scripts/convert_dir_to_note_sequences.py   \\\n",
    "    --input_dir='/path/to/lmd_wan/train/original'   \\\n",
    "    --output_file='path/to/lmd_wan/train/ns_original.tfrecord'   \\\n",
    "    --recursive\n",
    "\n",
    "!python3 .local/lib/python3.8/site-packages/magenta/scripts/convert_dir_to_note_sequences.py   \\\n",
    "    --input_dir='path/to/lmd_wan/test/original'   \\\n",
    "    --output_file='path/to/lmd_wan/test/ns_original.tfrecord'   \\\n",
    "    --recursive\n",
    "\n",
    "!python3 .local/lib/python3.8/site-packages/magenta/scripts/convert_dir_to_note_sequences.py   \\\n",
    "    --input_dir='path/to/lmd_wan/eval/original'   \\\n",
    "    --output_file='path/to/lmd_wan/eval/ns_original.tfrecord'   \\\n",
    "    --recursive"
   ]
  },
  {
   "cell_type": "markdown",
   "metadata": {},
   "source": [
    "Next, mask songs for infill task"
   ]
  },
  {
   "cell_type": "code",
   "execution_count": null,
   "metadata": {},
   "outputs": [],
   "source": [
    "import generate_embeddings\n",
    "folders = ['train', 'test', 'eval']\n",
    "ns_input_path = ''\n",
    "masked_ns_output_path = ''\n",
    "for f in folders:\n",
    "    if f == 'train': \n",
    "        for i in ['', '2', '3']:\n",
    "            ns_input_path = '~/ECE324/lmd_wan/' + f + '/ns_original' + i + '.tfrecord'\n",
    "            masked_ns_output_path = '~/ECE324/lmd_wan/' + f + '/ns_masked' + i + '.tfrecord'\n",
    "            print(ns_input_path, masked_ns_output_path)\n",
    "            generate_embeddings.mask_ns(ns_input_path, masked_ns_output_path)\n",
    "    else: \n",
    "        ns_input_path = '~/ECE324/lmd_wan/' + f + '/ns_original.tfrecord'\n",
    "        masked_ns_output_path = '~/ECE324/lmd_wan/' + f + '/ns_masked.tfrecord'\n",
    "        print(ns_input_path, masked_ns_output_path)\n",
    "        generate_embeddings.mask_ns(ns_input_path, masked_ns_output_path)"
   ]
  },
  {
   "cell_type": "markdown",
   "metadata": {},
   "source": [
    "Next, encode training, testing, and evaluation"
   ]
  },
  {
   "cell_type": "code",
   "execution_count": null,
   "metadata": {},
   "outputs": [],
   "source": [
    "#note: train might be too large and will kill the kernel after 5-6 hours\n",
    "import generate_embeddings\n",
    "folders = [ 'train', 'test', 'eval']\n",
    "type = ['original','masked']\n",
    "for f in folders:\n",
    "    for t in type:\n",
    "        if f == 'train': \n",
    "            for i in ['', '2', '3']:\n",
    "                ns_input_path = '~/ECE324/lmd_wan/' + f + '/ns_' + t  + i + '.tfrecord'\n",
    "                encoded_ns_output_path = '~/ECE324/lmd_wan/' + f + '/encoded_' + t  + i + '.tfrecord'\n",
    "                print(ns_input_path, encoded_ns_output_path)\n",
    "                generate_embeddings.encode_ns(ns_input_path, encoded_ns_output_path)\n",
    "        else:\n",
    "            ns_input_path = '~/ECE324/lmd_wan/' + f + '/ns_' + t + '.tfrecord'\n",
    "            encoded_ns_output_path = '~/ECE324/lmd_wan/' + f + '/encoded_' + t + '.tfrecord'\n",
    "            print(ns_input_path, encoded_ns_output_path)\n",
    "            generate_embeddings.encode_ns(ns_input_path, encoded_ns_output_path)"
   ]
  },
  {
   "cell_type": "markdown",
   "metadata": {},
   "source": [
    "Concatenate all training .tfrecords if needed (may be nessecary due to kernel issue processing full dataset at once)"
   ]
  },
  {
   "cell_type": "code",
   "execution_count": null,
   "metadata": {},
   "outputs": [],
   "source": [
    "import tensorflow as tf\n",
    "import os\n",
    "def concatenate_tfrecord(input_files, output_file):\n",
    "    with tf.io.TFRecordWriter(output_file) as writer:\n",
    "        for input_file in input_files:\n",
    "            dataset = tf.data.TFRecordDataset(input_file)\n",
    "            for record in dataset:\n",
    "                writer.write(record.numpy())\n",
    "\n",
    "input_files = [os.path.expanduser('~/ECE324/lmd_wan/train/encoded_masked1.tfrecord'), \n",
    "               os.path.expanduser('~/ECE324/lmd_wan/train/encoded_masked2.tfrecord'), \n",
    "               os.path.expanduser('~/ECE324/lmd_wan/train/encoded_masked3.tfrecord')]\n",
    "output_file = os.path.expanduser('~/ECE324/lmd_wan/train/encoded_masked.tfrecord')\n",
    "\n",
    "concatenate_tfrecord(input_files, output_file)"
   ]
  },
  {
   "cell_type": "markdown",
   "metadata": {},
   "source": [
    "Turn all encodings into paired train-test embeddings"
   ]
  },
  {
   "cell_type": "code",
   "execution_count": null,
   "metadata": {},
   "outputs": [],
   "source": [
    "import generate_embeddings\n",
    "type = ['original','masked']\n",
    "for t in type:\n",
    "    train_input_path = '~/ECE324/lmd_wan/train/encoded_' + t + '.tfrecord*'\n",
    "    test_input_path = '~/ECE324/lmd_wan/test/encoded_' + t + '.tfrecord*'\n",
    "    generate_embeddings.embed_encoding(train_input_path, \n",
    "                                    test_input_path,\n",
    "                                   '~/ECE324/lmd_wan/'+ t + '_embeddings' )"
   ]
  }
 ],
 "metadata": {
  "kernelspec": {
   "display_name": "Python 3",
   "language": "python",
   "name": "python3"
  },
  "language_info": {
   "codemirror_mode": {
    "name": "ipython",
    "version": 3
   },
   "file_extension": ".py",
   "mimetype": "text/x-python",
   "name": "python",
   "nbconvert_exporter": "python",
   "pygments_lexer": "ipython3",
   "version": "3.8.10"
  }
 },
 "nbformat": 4,
 "nbformat_minor": 2
}
