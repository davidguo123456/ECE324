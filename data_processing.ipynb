{
 "cells": [
  {
   "cell_type": "markdown",
   "metadata": {},
   "source": [
    "REMOVE THIS BEFORE SUBMITTING: guys plz dont run this, its jus so the TA has it technically available"
   ]
  },
  {
   "cell_type": "markdown",
   "metadata": {},
   "source": [
    "The below code will build your database. This code assumes you have installed 'magenta' via pip INSTEAD of anaconda.\n",
    "\n",
    "Structure your files as follows:\n",
    "```\n",
    "<name of working directory>/\n",
    "├─ lmd_wan/\n",
    "│  ├─ eval/\n",
    "│  │  ├─ original (contains midi files)/\n",
    "│  ├─ test/\n",
    "│  │  ├─ original (contains midi files)/\n",
    "│  ├─ train/\n",
    "│  │  ├─ original (contains midi files)/\n",
    "├─ <other code files on this level>\n",
    "├─ <such as config.py, data_processing.ipynb etc>\n",
    "├─ <other project folders are here too>/\n",
    "```"
   ]
  },
  {
   "cell_type": "code",
   "execution_count": null,
   "metadata": {},
   "outputs": [],
   "source": [
    "!python3 .local/lib/python3.8/site-packages/magenta/scripts/convert_dir_to_note_sequences.py   \\\n",
    "    --input_dir='/path/to/lmd_wan/train/original'   \\\n",
    "    --output_file='path/to/lmd_wan/train/ns_original.tfrecord'   \\\n",
    "    --recursive\n",
    "\n",
    "!python3 .local/lib/python3.8/site-packages/magenta/scripts/convert_dir_to_note_sequences.py   \\\n",
    "    --input_dir='path/to/lmd_wan/test/original'   \\\n",
    "    --output_file='path/to/lmd_wan/test/ns_original.tfrecord'   \\\n",
    "    --recursive\n",
    "\n",
    "!python3 .local/lib/python3.8/site-packages/magenta/scripts/convert_dir_to_note_sequences.py   \\\n",
    "    --input_dir='path/to/lmd_wan/eval/original'   \\\n",
    "    --output_file='path/to/lmd_wan/eval/ns_original.tfrecord'   \\\n",
    "    --recursive"
   ]
  },
  {
   "cell_type": "markdown",
   "metadata": {},
   "source": [
    "Next, mask songs for infill task"
   ]
  },
  {
   "cell_type": "code",
   "execution_count": 2,
   "metadata": {},
   "outputs": [
    {
     "name": "stdout",
     "output_type": "stream",
     "text": [
      "~/ECE324/lmd_wan/train/ns_original.tfrecord-** ~/ECE324/lmd_wan/train/ns_masked.tfrecord\n",
      "Starting Pipe\n",
      "Done\n",
      "~/ECE324/lmd_wan/train/ns_original2.tfrecord-** ~/ECE324/lmd_wan/train/ns_masked2.tfrecord\n",
      "Starting Pipe\n",
      "Done\n",
      "~/ECE324/lmd_wan/train/ns_original3.tfrecord-** ~/ECE324/lmd_wan/train/ns_masked3.tfrecord\n",
      "Starting Pipe\n",
      "Done\n",
      "~/ECE324/lmd_wan/test/ns_original.tfrecord-* ~/ECE324/lmd_wan/test/ns_masked.tfrecord\n",
      "Starting Pipe\n",
      "Done\n",
      "~/ECE324/lmd_wan/eval/ns_original.tfrecord-* ~/ECE324/lmd_wan/eval/ns_masked.tfrecord\n",
      "Starting Pipe\n",
      "Done\n"
     ]
    }
   ],
   "source": [
    "import generate_embeddings\n",
    "folders = ['train', 'test', 'eval']\n",
    "ns_input_path = ''\n",
    "masked_ns_output_path = ''\n",
    "for f in folders:\n",
    "    if f == 'train': \n",
    "        for i in ['', '2', '3']:\n",
    "            ns_input_path = '~/ECE324/lmd_wan/' + f + '/ns_original' + i + '.tfrecord'\n",
    "            masked_ns_output_path = '~/ECE324/lmd_wan/' + f + '/ns_masked' + i + '.tfrecord'\n",
    "            print(ns_input_path, masked_ns_output_path)\n",
    "            generate_embeddings.mask_ns(ns_input_path, masked_ns_output_path)\n",
    "    else: \n",
    "        ns_input_path = '~/ECE324/lmd_wan/' + f + '/ns_original.tfrecord'\n",
    "        masked_ns_output_path = '~/ECE324/lmd_wan/' + f + '/ns_masked.tfrecord'\n",
    "        print(ns_input_path, masked_ns_output_path)\n",
    "        generate_embeddings.mask_ns(ns_input_path, masked_ns_output_path)"
   ]
  },
  {
   "cell_type": "markdown",
   "metadata": {},
   "source": [
    "Next, encode training, testing, and evaluation"
   ]
  },
  {
   "cell_type": "code",
   "execution_count": null,
   "metadata": {},
   "outputs": [
    {
     "name": "stdout",
     "output_type": "stream",
     "text": [
      "~/ECE324/lmd_wan/test/ns_original.tfrecord ~/ECE324/lmd_wan/test/encoded_original.tfrecord\n",
      "Starting Pipe\n",
      "INFO:tensorflow:Building MusicVAE model with BidirectionalLstmEncoder, CategoricalLstmDecoder, and hparams:\n",
      "{'max_seq_len': 32, 'z_size': 512, 'free_bits': 0, 'max_beta': 0.5, 'beta_rate': 0.99999, 'batch_size': 1, 'grad_clip': 1.0, 'clip_mode': 'global_norm', 'grad_norm_clip_to_zero': 10000, 'learning_rate': 0.001, 'decay_rate': 0.9999, 'min_learning_rate': 1e-05, 'conditional': True, 'dec_rnn_size': [2048, 2048, 2048], 'enc_rnn_size': [2048], 'dropout_keep_prob': 1.0, 'sampling_schedule': 'inverse_sigmoid', 'sampling_rate': 1000, 'use_cudnn': False, 'residual_encoder': False, 'residual_decoder': False, 'control_preprocessing_rnn_size': [256]}\n"
     ]
    },
    {
     "name": "stderr",
     "output_type": "stream",
     "text": [
      "INFO:tensorflow:Building MusicVAE model with BidirectionalLstmEncoder, CategoricalLstmDecoder, and hparams:\n",
      "{'max_seq_len': 32, 'z_size': 512, 'free_bits': 0, 'max_beta': 0.5, 'beta_rate': 0.99999, 'batch_size': 1, 'grad_clip': 1.0, 'clip_mode': 'global_norm', 'grad_norm_clip_to_zero': 10000, 'learning_rate': 0.001, 'decay_rate': 0.9999, 'min_learning_rate': 1e-05, 'conditional': True, 'dec_rnn_size': [2048, 2048, 2048], 'enc_rnn_size': [2048], 'dropout_keep_prob': 1.0, 'sampling_schedule': 'inverse_sigmoid', 'sampling_rate': 1000, 'use_cudnn': False, 'residual_encoder': False, 'residual_decoder': False, 'control_preprocessing_rnn_size': [256]}\n"
     ]
    },
    {
     "name": "stdout",
     "output_type": "stream",
     "text": [
      "INFO:tensorflow:\n",
      "Encoder Cells (bidirectional):\n",
      "  units: [2048]\n",
      "\n"
     ]
    },
    {
     "name": "stderr",
     "output_type": "stream",
     "text": [
      "INFO:tensorflow:\n",
      "Encoder Cells (bidirectional):\n",
      "  units: [2048]\n",
      "\n"
     ]
    },
    {
     "name": "stdout",
     "output_type": "stream",
     "text": [
      "WARNING:tensorflow:`tf.nn.rnn_cell.MultiRNNCell` is deprecated. This class is equivalent as `tf.keras.layers.StackedRNNCells`, and will be replaced by that in Tensorflow 2.0.\n"
     ]
    },
    {
     "name": "stderr",
     "output_type": "stream",
     "text": [
      "WARNING:tensorflow:`tf.nn.rnn_cell.MultiRNNCell` is deprecated. This class is equivalent as `tf.keras.layers.StackedRNNCells`, and will be replaced by that in Tensorflow 2.0.\n"
     ]
    },
    {
     "name": "stdout",
     "output_type": "stream",
     "text": [
      "WARNING:tensorflow:`tf.nn.rnn_cell.MultiRNNCell` is deprecated. This class is equivalent as `tf.keras.layers.StackedRNNCells`, and will be replaced by that in Tensorflow 2.0.\n"
     ]
    },
    {
     "name": "stderr",
     "output_type": "stream",
     "text": [
      "WARNING:tensorflow:`tf.nn.rnn_cell.MultiRNNCell` is deprecated. This class is equivalent as `tf.keras.layers.StackedRNNCells`, and will be replaced by that in Tensorflow 2.0.\n"
     ]
    },
    {
     "name": "stdout",
     "output_type": "stream",
     "text": [
      "INFO:tensorflow:\n",
      "Decoder Cells:\n",
      "  units: [2048, 2048, 2048]\n",
      "\n"
     ]
    },
    {
     "name": "stderr",
     "output_type": "stream",
     "text": [
      "INFO:tensorflow:\n",
      "Decoder Cells:\n",
      "  units: [2048, 2048, 2048]\n",
      "\n"
     ]
    },
    {
     "name": "stdout",
     "output_type": "stream",
     "text": [
      "WARNING:tensorflow:Setting non-training sampling schedule from inverse_sigmoid:1000.000000 to constant:1.0.\n"
     ]
    },
    {
     "name": "stderr",
     "output_type": "stream",
     "text": [
      "WARNING:tensorflow:Setting non-training sampling schedule from inverse_sigmoid:1000.000000 to constant:1.0.\n"
     ]
    },
    {
     "name": "stdout",
     "output_type": "stream",
     "text": [
      "WARNING:tensorflow:From /home/david/.local/lib/python3.8/site-packages/tensorflow/python/util/dispatch.py:1082: to_float (from tensorflow.python.ops.math_ops) is deprecated and will be removed in a future version.\n",
      "Instructions for updating:\n",
      "Use `tf.cast` instead.\n"
     ]
    },
    {
     "name": "stderr",
     "output_type": "stream",
     "text": [
      "WARNING:tensorflow:From /home/david/.local/lib/python3.8/site-packages/tensorflow/python/util/dispatch.py:1082: to_float (from tensorflow.python.ops.math_ops) is deprecated and will be removed in a future version.\n",
      "Instructions for updating:\n",
      "Use `tf.cast` instead.\n"
     ]
    },
    {
     "name": "stdout",
     "output_type": "stream",
     "text": [
      "WARNING:tensorflow:`tf.nn.rnn_cell.MultiRNNCell` is deprecated. This class is equivalent as `tf.keras.layers.StackedRNNCells`, and will be replaced by that in Tensorflow 2.0.\n"
     ]
    },
    {
     "name": "stderr",
     "output_type": "stream",
     "text": [
      "WARNING:tensorflow:`tf.nn.rnn_cell.MultiRNNCell` is deprecated. This class is equivalent as `tf.keras.layers.StackedRNNCells`, and will be replaced by that in Tensorflow 2.0.\n",
      "/home/david/.local/lib/python3.8/site-packages/magenta/models/music_vae/lstm_utils.py:94: UserWarning: `tf.layers.dense` is deprecated and will be removed in a future version. Please use `tf.keras.layers.Dense` instead.\n",
      "  tf.layers.dense(\n",
      "/home/david/.local/lib/python3.8/site-packages/magenta/contrib/rnn.py:749: UserWarning: `layer.add_variable` is deprecated and will be removed in a future version. Please use the `layer.add_weight()` method instead.\n",
      "  self._kernel = self.add_variable(\n",
      "/home/david/.local/lib/python3.8/site-packages/magenta/contrib/rnn.py:751: UserWarning: `layer.add_variable` is deprecated and will be removed in a future version. Please use the `layer.add_weight()` method instead.\n",
      "  self._bias = self.add_variable(\n"
     ]
    },
    {
     "name": "stdout",
     "output_type": "stream",
     "text": [
      "WARNING:tensorflow:From /home/david/.local/lib/python3.8/site-packages/magenta/contrib/rnn.py:463: bidirectional_dynamic_rnn (from tensorflow.python.ops.rnn) is deprecated and will be removed in a future version.\n",
      "Instructions for updating:\n",
      "Please use `keras.layers.Bidirectional(keras.layers.RNN(cell))`, which is equivalent to this API\n"
     ]
    },
    {
     "name": "stderr",
     "output_type": "stream",
     "text": [
      "WARNING:tensorflow:From /home/david/.local/lib/python3.8/site-packages/magenta/contrib/rnn.py:463: bidirectional_dynamic_rnn (from tensorflow.python.ops.rnn) is deprecated and will be removed in a future version.\n",
      "Instructions for updating:\n",
      "Please use `keras.layers.Bidirectional(keras.layers.RNN(cell))`, which is equivalent to this API\n"
     ]
    },
    {
     "name": "stdout",
     "output_type": "stream",
     "text": [
      "WARNING:tensorflow:From /home/david/.local/lib/python3.8/site-packages/tensorflow/python/ops/rnn.py:437: dynamic_rnn (from tensorflow.python.ops.rnn) is deprecated and will be removed in a future version.\n",
      "Instructions for updating:\n",
      "Please use `keras.layers.RNN(cell)`, which is equivalent to this API\n"
     ]
    },
    {
     "name": "stderr",
     "output_type": "stream",
     "text": [
      "WARNING:tensorflow:From /home/david/.local/lib/python3.8/site-packages/tensorflow/python/ops/rnn.py:437: dynamic_rnn (from tensorflow.python.ops.rnn) is deprecated and will be removed in a future version.\n",
      "Instructions for updating:\n",
      "Please use `keras.layers.RNN(cell)`, which is equivalent to this API\n"
     ]
    },
    {
     "name": "stdout",
     "output_type": "stream",
     "text": [
      "WARNING:tensorflow:From /home/david/.local/lib/python3.8/site-packages/tensorflow_probability/python/distributions/distribution.py:342: calling MultivariateNormalDiag.__init__ (from tensorflow_probability.python.distributions.mvn_diag) with scale_identity_multiplier is deprecated and will be removed after 2020-01-01.\n",
      "Instructions for updating:\n",
      "`scale_identity_multiplier` is deprecated; please combine it into `scale_diag` directly instead.\n"
     ]
    },
    {
     "name": "stderr",
     "output_type": "stream",
     "text": [
      "/home/david/.local/lib/python3.8/site-packages/magenta/models/music_vae/base_model.py:195: UserWarning: `tf.layers.dense` is deprecated and will be removed in a future version. Please use `tf.keras.layers.Dense` instead.\n",
      "  mu = tf.layers.dense(\n",
      "/home/david/.local/lib/python3.8/site-packages/magenta/models/music_vae/base_model.py:200: UserWarning: `tf.layers.dense` is deprecated and will be removed in a future version. Please use `tf.keras.layers.Dense` instead.\n",
      "  sigma = tf.layers.dense(\n",
      "WARNING:tensorflow:From /home/david/.local/lib/python3.8/site-packages/tensorflow_probability/python/distributions/distribution.py:342: calling MultivariateNormalDiag.__init__ (from tensorflow_probability.python.distributions.mvn_diag) with scale_identity_multiplier is deprecated and will be removed after 2020-01-01.\n",
      "Instructions for updating:\n",
      "`scale_identity_multiplier` is deprecated; please combine it into `scale_diag` directly instead.\n"
     ]
    },
    {
     "name": "stdout",
     "output_type": "stream",
     "text": [
      "INFO:tensorflow:Unbundling checkpoint.\n"
     ]
    },
    {
     "name": "stderr",
     "output_type": "stream",
     "text": [
      "INFO:tensorflow:Unbundling checkpoint.\n"
     ]
    },
    {
     "name": "stdout",
     "output_type": "stream",
     "text": [
      "INFO:tensorflow:Restoring parameters from /tmp/tmptxazen60/cat-mel_2bar_big.ckpt\n"
     ]
    },
    {
     "name": "stderr",
     "output_type": "stream",
     "text": [
      "INFO:tensorflow:Restoring parameters from /tmp/tmptxazen60/cat-mel_2bar_big.ckpt\n"
     ]
    },
    {
     "name": "stdout",
     "output_type": "stream",
     "text": [
      "Processing /id/midi/original/a3cc7ac4dfd8821b227123d77341a0393e7fc5ac::a01e45a39e468062baa4665fbb2bb04c.mid (244.654993)\n",
      "Processing /id/midi/original/bbf419f1d909f2509352e83abd7bf78a2c378993::7e89f1607ad54bd922d6c730d501d1e6.mid (333.683604)\n",
      "Processing /id/midi/original/0078361571af202d1896b3f6eed7a9b55ef0c629::a76f87fe9c9de175bdb0b85e3190497e.mid (176.254848)\n",
      "Processing /id/midi/original/db628ef2efb13a9bb93c9a9a54574ebe9666cf1d::aaa2eefdf44dae827919251815ac3386.mid (264.397136)\n",
      "Processing /id/midi/original/a127b110f9ea25f47e8a9fa95b0a8e7ba845b95c::e2c5d81c671278b9f2b1af06e8cbcc14.mid (247.241667)\n",
      "Processing /id/midi/original/60c3424dcd5521f96b3d486198617e1207b24656::7cadb76001487b656c889ab26882fd1f.mid (189.755047)\n",
      "Processing /id/midi/original/edf07e878c3001e5157945c2ed34edf100f22701::7396e2e6e2fcc1eee218560fc9c86534.mid (12.739049)\n",
      "Processing /id/midi/original/73b63d757b9766d91eb7746dd07d716c86500232::a63658961b68b3c6b722bf91881110b5.mid (130.363506)\n",
      "Processing /id/midi/original/26105ab3552d387b99027806f1c661017c2b7155::e203a33455bbb98cb6e20395301d1840.mid (280.890625)\n",
      "Processing /id/midi/original/485c33cecf241206e2e683a2df2aa6f9fc387c91::eef066cfa6dbdc767f39a8e217c6a7ab.mid (170.780025)\n",
      "Processing /id/midi/original/da83f5d7d32128544d0569060d4e50ac8b8f96cd::761b00ab331390f1baf5670a06d1d5df.mid (354.690305)\n",
      "Processing /id/midi/original/642a7c5fe42daf82b937b2e53087a6c634819a8f::7b1188f0a80f756fd1b3f34cd856cf71.mid (103.722915)\n",
      "Processing /id/midi/original/61a29c1076dc014ac8b49aeb217c70085cb92cc1::79772e7834797ac275d5e21d10dc984c.mid (25.645833)\n",
      "Processing /id/midi/original/f1fa6373cce10669a5d66de1406597058b2c51ab::abf2971838f30d67bda41146905b52b6.mid (194.215589)\n",
      "Processing /id/midi/original/e3ef71be5694000b6dbcd9b62ef592ea5e49f7d8::aed626460d422e638975527371867e0c.mid (323.477533)\n",
      "Processing /id/midi/original/235bfc04037a3da66f8d0e69ab642f256ec67b94::a1a4af46ef5c87be2392dce42c4415c8.mid (240.729796)\n",
      "Processing /id/midi/original/59e8a83a1b45cfa323b6b67d562a31a656c2f1ff::7deaeaa66f127b45fe7b434b341aca21.mid (229.710485)\n",
      "Processing /id/midi/original/4cf8c64f8858f743407858870d11698077038fe6::e0246288909bbe5b0a8e5da5a533fefb.mid (117.843687)\n",
      "Processing /id/midi/original/cf699e2a9b274f30a5e13cc0712adc108d051d9c::70908f4f29881cc320118456d4ed0755.mid (28.388298)\n",
      "Processing /id/midi/original/28986113af54fb14845f673bc577414414645ef0::753b9de8ffd3b34f0cacd9160f6b2a98.mid (145.661458)\n",
      "Processing /id/midi/original/b3fec0b13ee3482e3f6111fce7921881df85e1f7::7995d70ea86ed08f940666e33c67efb5.mid (132.956250)\n",
      "Processing /id/midi/original/bef2acca7b6a047283918da19363f2c10347476b::759b945e073b8f397d3f3c4bcbc73723.mid (296.619984)\n",
      "Processing /id/midi/original/5127345d56a2e1b9f777a35a7899b72244746938::efdfcae366ef6a000661b00b88c8ccea.mid (57.038385)\n",
      "Processing /id/midi/original/401bd8dd2fb9f0d0e880087753df00e5222d3209::a418a74a7e7a620aca0c3b669fd0b77a.mid (64.919061)\n",
      "Processing /id/midi/original/15261ad2b637542d895df4385699cdb2901658f5::ef86f94b2dcc266de2d024c46f29560f.mid (58.223156)\n",
      "Processing /id/midi/original/253223f4e2efd2aa4f3aead66463e50b136bfb92::71f6997a2c193ec568f7805a593616f6.mid (264.254336)\n",
      "Processing /id/midi/original/900942158e310d7782f6d2dc522cf4fc5786118d::e918334b5aff7ca14f574826043a176b.mid (136.800000)\n",
      "Processing /id/midi/original/c7afe47f7e66c459087028a4a395b41a03b121df::ea9a4f72f5326645a9734bcb1e0466ac.mid (203.224621)\n",
      "Processing /id/midi/original/5345652f96a8801a18536a2c63be19fd67a427fc::ac1b38f1af0ba1e36f57da8915c69f2e.mid (316.491667)\n",
      "Processing /id/midi/original/7cca31ccdcc70f3aa7e6449095cfdea6444bd8d3::e2386d4560807fffc38f79c0d7ea2c5f.mid (156.894213)\n",
      "Processing /id/midi/original/307b22b358a236638f58739bf8909f555247b2b4::7505cb8800448c2e06092d82e5e546ca.mid (8.549996)\n",
      "Processing /id/midi/original/90a902e831f4cea0caaaf232b921ab1b2a96fd38::a3b459457ea7feadd65534122303ffb5.mid (187.624857)\n"
     ]
    }
   ],
   "source": [
    "#note: train might be too large and will kill the kernel after 5-6 hours\n",
    "import generate_embeddings\n",
    "folders = [ 'test', 'eval', 'train']\n",
    "type = ['original','masked']\n",
    "for f in folders:\n",
    "    for t in type:\n",
    "        ns_input_path = '~/ECE324/lmd_wan/' + f + '/ns_' + t + '.tfrecord-*'\n",
    "        encoded_ns_output_path = '~/ECE324/lmd_wan/' + f + '/encoded_' + t + '.tfrecord'\n",
    "        print(ns_input_path, encoded_ns_output_path)\n",
    "        generate_embeddings.encode_ns(ns_input_path, encoded_ns_output_path)"
   ]
  },
  {
   "cell_type": "markdown",
   "metadata": {},
   "source": [
    "Turn all encodings into paired train-test embeddings"
   ]
  },
  {
   "cell_type": "code",
   "execution_count": 1,
   "metadata": {},
   "outputs": [
    {
     "name": "stderr",
     "output_type": "stream",
     "text": [
      "/home/david/.local/lib/python3.8/site-packages/librosa/util/decorators.py:9: NumbaDeprecationWarning: \u001b[1mAn import was requested from a module that has moved location.\n",
      "Import requested from: 'numba.decorators', please update to use 'numba.core.decorators' or pin to Numba version 0.48.0. This alias will not be present in Numba version 0.50.0.\u001b[0m\n",
      "  from numba.decorators import jit as optional_jit\n",
      "/home/david/.local/lib/python3.8/site-packages/librosa/util/decorators.py:9: NumbaDeprecationWarning: \u001b[1mAn import was requested from a module that has moved location.\n",
      "Import of 'jit' requested from: 'numba.decorators', please update to use 'numba.core.decorators' or pin to Numba version 0.48.0. This alias will not be present in Numba version 0.50.0.\u001b[0m\n",
      "  from numba.decorators import jit as optional_jit\n"
     ]
    },
    {
     "name": "stdout",
     "output_type": "stream",
     "text": [
      "~/ECE324/lmd_wan/eval/encoded_original.tfrecord ~/ECE324/lmd_wan/test/encoded_original.tfrecord ~/ECE324/lmd_wan/original\n",
      "train\n",
      "1000\n",
      "2000\n",
      "3000\n",
      "4000\n",
      "5000\n",
      "6000\n",
      "7000\n",
      "8000\n",
      "9000\n",
      "10000\n",
      "11000\n",
      "12000\n",
      "saving a shard to:~/ECE324/lmd_wan/original/train-0000\n",
      "test\n",
      "1000\n",
      "2000\n",
      "3000\n",
      "4000\n",
      "5000\n",
      "6000\n",
      "7000\n",
      "8000\n",
      "9000\n",
      "10000\n",
      "11000\n",
      "12000\n",
      "saving a shard to:~/ECE324/lmd_wan/original/test-0000\n",
      "Done\n",
      "~/ECE324/lmd_wan/eval/encoded_masked.tfrecord ~/ECE324/lmd_wan/test/encoded_masked.tfrecord ~/ECE324/lmd_wan/masked\n",
      "train\n",
      "1000\n",
      "2000\n",
      "3000\n",
      "4000\n",
      "5000\n",
      "6000\n",
      "7000\n",
      "8000\n",
      "9000\n",
      "10000\n",
      "11000\n",
      "12000\n",
      "saving a shard to:~/ECE324/lmd_wan/masked/train-0000\n",
      "test\n",
      "1000\n",
      "2000\n",
      "3000\n",
      "4000\n",
      "5000\n",
      "6000\n",
      "7000\n",
      "8000\n",
      "9000\n",
      "10000\n",
      "11000\n",
      "saving a shard to:~/ECE324/lmd_wan/masked/test-0000\n",
      "Done\n"
     ]
    }
   ],
   "source": [
    "import generate_embeddings\n",
    "type = ['original','masked']\n",
    "for t in type:\n",
    "    train_input_path = '~/ECE324/lmd_wan/eval/encoded_' + t + '.tfrecord-*'\n",
    "    test_input_path = '~/ECE324/lmd_wan/test/encoded_' + t + '.tfrecord-*'\n",
    "    generate_embeddings.embed_encoding(train_input_path, \n",
    "                                    test_input_path,\n",
    "                                   '~/ECE324/lmd_wan/'+ t )"
   ]
  }
 ],
 "metadata": {
  "kernelspec": {
   "display_name": "Python 3",
   "language": "python",
   "name": "python3"
  },
  "language_info": {
   "codemirror_mode": {
    "name": "ipython",
    "version": 3
   },
   "file_extension": ".py",
   "mimetype": "text/x-python",
   "name": "python",
   "nbconvert_exporter": "python",
   "pygments_lexer": "ipython3",
   "version": "3.8.10"
  }
 },
 "nbformat": 4,
 "nbformat_minor": 2
}
