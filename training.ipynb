{
 "cells": [
  {
   "cell_type": "code",
   "execution_count": 1,
   "metadata": {},
   "outputs": [
    {
     "name": "stderr",
     "output_type": "stream",
     "text": [
      "/home/david/.local/lib/python3.8/site-packages/tqdm/auto.py:21: TqdmWarning: IProgress not found. Please update jupyter and ipywidgets. See https://ipywidgets.readthedocs.io/en/stable/user_install.html\n",
      "  from .autonotebook import tqdm as notebook_tqdm\n",
      "2024-04-08 12:25:15.597065: E external/org_tensorflow/tensorflow/stream_executor/cuda/cuda_gpu_executor.cc:927] could not open file to read NUMA node: /sys/bus/pci/devices/0000:0a:00.0/numa_node\n",
      "Your kernel may have been built without NUMA support.\n"
     ]
    },
    {
     "name": "stdout",
     "output_type": "stream",
     "text": [
      "PhysicalDevice(name='/physical_device:CPU:0', device_type='CPU')\n",
      "(32, 8, 512)\n",
      "epoch: 0, started at: 1712593523.0430298\n",
      "1820\n",
      "step: 0\n"
     ]
    },
    {
     "name": "stderr",
     "output_type": "stream",
     "text": [
      "2024-04-08 12:25:30.750178: E external/org_tensorflow/tensorflow/stream_executor/cuda/cuda_driver.cc:851] failed to alloc 134217728 bytes on host: CUDA_ERROR_OUT_OF_MEMORY: out of memory\n",
      "2024-04-08 12:25:30.750218: W external/org_tensorflow/tensorflow/core/common_runtime/gpu/gpu_host_allocator.h:44] could not allocate pinned host memory of size: 134217728\n",
      "2024-04-08 12:25:30.785856: E external/org_tensorflow/tensorflow/stream_executor/cuda/cuda_driver.cc:851] failed to alloc 120796160 bytes on host: CUDA_ERROR_OUT_OF_MEMORY: out of memory\n",
      "2024-04-08 12:25:30.785893: W external/org_tensorflow/tensorflow/core/common_runtime/gpu/gpu_host_allocator.h:44] could not allocate pinned host memory of size: 120796160\n",
      "2024-04-08 12:25:30.820624: E external/org_tensorflow/tensorflow/stream_executor/cuda/cuda_driver.cc:851] failed to alloc 108716544 bytes on host: CUDA_ERROR_OUT_OF_MEMORY: out of memory\n",
      "2024-04-08 12:25:30.820657: W external/org_tensorflow/tensorflow/core/common_runtime/gpu/gpu_host_allocator.h:44] could not allocate pinned host memory of size: 108716544\n",
      "2024-04-08 12:25:30.856150: E external/org_tensorflow/tensorflow/stream_executor/cuda/cuda_driver.cc:851] failed to alloc 134217728 bytes on host: CUDA_ERROR_OUT_OF_MEMORY: out of memory\n",
      "2024-04-08 12:25:30.856185: W external/org_tensorflow/tensorflow/core/common_runtime/gpu/gpu_host_allocator.h:44] could not allocate pinned host memory of size: 134217728\n",
      "2024-04-08 12:25:40.897042: E external/org_tensorflow/tensorflow/stream_executor/cuda/cuda_driver.cc:851] failed to alloc 134217728 bytes on host: CUDA_ERROR_OUT_OF_MEMORY: out of memory\n",
      "2024-04-08 12:25:40.897082: W external/org_tensorflow/tensorflow/core/common_runtime/gpu/gpu_host_allocator.h:44] could not allocate pinned host memory of size: 134217728\n",
      "2024-04-08 12:25:40.933647: E external/org_tensorflow/tensorflow/stream_executor/cuda/cuda_driver.cc:851] failed to alloc 134217728 bytes on host: CUDA_ERROR_OUT_OF_MEMORY: out of memory\n",
      "2024-04-08 12:25:40.933684: W external/org_tensorflow/tensorflow/core/common_runtime/gpu/gpu_host_allocator.h:44] could not allocate pinned host memory of size: 134217728\n",
      "2024-04-08 12:25:40.933704: W external/org_tensorflow/tensorflow/core/common_runtime/bfc_allocator.cc:433] Allocator (xla_gpu_host_bfc) ran out of memory trying to allocate 100.00MiB (rounded to 104857600)requested by op \n",
      "2024-04-08 12:25:40.933738: W external/org_tensorflow/tensorflow/core/common_runtime/bfc_allocator.cc:441] ____________________________________________________________________________________________________\n",
      "2024-04-08 12:25:41.060417: E external/org_tensorflow/tensorflow/stream_executor/cuda/cuda_driver.cc:851] failed to alloc 134217728 bytes on host: CUDA_ERROR_OUT_OF_MEMORY: out of memory\n",
      "2024-04-08 12:25:41.060459: W external/org_tensorflow/tensorflow/core/common_runtime/gpu/gpu_host_allocator.h:44] could not allocate pinned host memory of size: 134217728\n",
      "2024-04-08 12:25:41.097218: E external/org_tensorflow/tensorflow/stream_executor/cuda/cuda_driver.cc:851] failed to alloc 134217728 bytes on host: CUDA_ERROR_OUT_OF_MEMORY: out of memory\n",
      "2024-04-08 12:25:41.097253: W external/org_tensorflow/tensorflow/core/common_runtime/gpu/gpu_host_allocator.h:44] could not allocate pinned host memory of size: 134217728\n",
      "2024-04-08 12:25:51.142642: E external/org_tensorflow/tensorflow/stream_executor/cuda/cuda_driver.cc:851] failed to alloc 134217728 bytes on host: CUDA_ERROR_OUT_OF_MEMORY: out of memory\n",
      "2024-04-08 12:25:51.142681: W external/org_tensorflow/tensorflow/core/common_runtime/gpu/gpu_host_allocator.h:44] could not allocate pinned host memory of size: 134217728\n",
      "2024-04-08 12:25:51.180834: E external/org_tensorflow/tensorflow/stream_executor/cuda/cuda_driver.cc:851] failed to alloc 134217728 bytes on host: CUDA_ERROR_OUT_OF_MEMORY: out of memory\n",
      "2024-04-08 12:25:51.180868: W external/org_tensorflow/tensorflow/core/common_runtime/gpu/gpu_host_allocator.h:44] could not allocate pinned host memory of size: 134217728\n",
      "2024-04-08 12:25:51.180886: W external/org_tensorflow/tensorflow/core/common_runtime/bfc_allocator.cc:433] Allocator (xla_gpu_host_bfc) ran out of memory trying to allocate 100.00MiB (rounded to 104857600)requested by op \n",
      "2024-04-08 12:25:51.180920: W external/org_tensorflow/tensorflow/core/common_runtime/bfc_allocator.cc:441] ____________________________________________________________________________________________________\n"
     ]
    }
   ],
   "source": [
    "from train_autoregressive import train_autoregressive\n",
    "import os\n",
    "os.environ[\"XLA_PYTHON_CLIENT_MEM_FRACTION\"]=\".75\"\n",
    "os.environ[\"CUDA_VISIBLE_DEVICES\"] = \"-1\"\n",
    "train_autoregressive('./lmd_wan/original-size-8')"
   ]
  }
 ],
 "metadata": {
  "kernelspec": {
   "display_name": "Python 3",
   "language": "python",
   "name": "python3"
  },
  "language_info": {
   "codemirror_mode": {
    "name": "ipython",
    "version": 3
   },
   "file_extension": ".py",
   "mimetype": "text/x-python",
   "name": "python",
   "nbconvert_exporter": "python",
   "pygments_lexer": "ipython3",
   "version": "3.8.10"
  }
 },
 "nbformat": 4,
 "nbformat_minor": 2
}
