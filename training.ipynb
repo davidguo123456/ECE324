{
 "cells": [
  {
   "cell_type": "markdown",
   "metadata": {},
   "source": [
    "Train 'TransformerMDN' model with flax, set whether to resume training, and where to restore checkpoint from"
   ]
  },
  {
   "cell_type": "code",
   "execution_count": null,
   "metadata": {},
   "outputs": [],
   "source": [
    "from train_autoregressive import train_autoregressive\n",
    "import os\n",
    "#ensure jax sees gpu, but tf does not\n",
    "os.environ[\"XLA_PYTHON_CLIENT_MEM_FRACTION\"]=\".75\"\n",
    "os.environ[\"CUDA_VISIBLE_DEVICES\"] = \"0\"\n",
    "\n",
    "data_dir = './lmd_wan/full_network_data' #location of training data\n",
    "ckpt_dir = 'checkpoints'\n",
    "\n",
    "train_autoregressive(data_dir, \n",
    "                     ckpt_dir,\n",
    "                     resume = True)"
   ]
  }
 ],
 "metadata": {
  "kernelspec": {
   "display_name": "Python 3",
   "language": "python",
   "name": "python3"
  },
  "language_info": {
   "codemirror_mode": {
    "name": "ipython",
    "version": 3
   },
   "file_extension": ".py",
   "mimetype": "text/x-python",
   "name": "python",
   "nbconvert_exporter": "python",
   "pygments_lexer": "ipython3",
   "version": "3.8.10"
  }
 },
 "nbformat": 4,
 "nbformat_minor": 2
}
